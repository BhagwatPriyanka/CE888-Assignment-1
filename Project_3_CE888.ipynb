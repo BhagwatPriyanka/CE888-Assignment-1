{
  "nbformat": 4,
  "nbformat_minor": 0,
  "metadata": {
    "colab": {
      "name": "Project 3_CE888.ipynb",
      "provenance": [],
      "collapsed_sections": [],
      "authorship_tag": "ABX9TyMwzfKJTchHCWazE3YUHzAh",
      "include_colab_link": true
    },
    "kernelspec": {
      "name": "python3",
      "display_name": "Python 3"
    }
  },
  "cells": [
    {
      "cell_type": "markdown",
      "metadata": {
        "id": "view-in-github",
        "colab_type": "text"
      },
      "source": [
        "<a href=\"https://colab.research.google.com/github/BhagwatPriyanka/CE888-Assignment-1/blob/main/Project_3_CE888.ipynb\" target=\"_parent\"><img src=\"https://colab.research.google.com/assets/colab-badge.svg\" alt=\"Open In Colab\"/></a>"
      ]
    },
    {
      "cell_type": "markdown",
      "metadata": {
        "id": "Bvb3tgjqTEqv"
      },
      "source": [
        "# **Is The UK Police Biased?**\r\n",
        "   **(Bias in ML algorithms)**\r\n"
      ]
    },
    {
      "cell_type": "code",
      "metadata": {
        "id": "q9lE3NVEfkWX"
      },
      "source": [
        "#import libraries\r\n",
        "\r\n",
        "import pandas as pd\r\n",
        "import numpy as np\r\n",
        "from datetime import datetime \r\n",
        "#data visualization\r\n",
        "import matplotlib.pyplot as plt\r\n",
        "import seaborn as sns\r\n",
        "\r\n",
        "#label encoder\r\n",
        "from sklearn.preprocessing import LabelEncoder\r\n",
        "#train-test-split and cross validation\r\n",
        "from sklearn.model_selection import train_test_split, cross_val_score\r\n",
        "#classifier\r\n",
        "from sklearn.ensemble import RandomForestClassifier\r\n",
        "#feature selection\r\n",
        "from sklearn.model_selection import GridSearchCV\r\n",
        "from sklearn.feature_selection import RFE\r\n",
        "\r\n",
        "figsize = (16,8)"
      ],
      "execution_count": 139,
      "outputs": []
    },
    {
      "cell_type": "markdown",
      "metadata": {
        "id": "39WVhFC92ZDV"
      },
      "source": [
        "Loading data:\r\n",
        "\r\n",
        "**This dataset is obtained from https://data.police.uk/data/.  which contains records of search and stop objects, ethnicity and legislation in May 2019. The dataframe has 1369 observations and infomration on 15 variables.**"
      ]
    },
    {
      "cell_type": "code",
      "metadata": {
        "colab": {
          "base_uri": "https://localhost:8080/",
          "height": 410
        },
        "id": "ax9qq5L0i3KN",
        "outputId": "b12e72f8-ac0d-4e9a-8005-5978e92807c4"
      },
      "source": [
        " df=pd.read_csv(\"https://raw.githubusercontent.com/BhagwatPriyanka/CE888/main/Project/2019-05-essex-stop-and-search.csv\")\r\n",
        " df.head()"
      ],
      "execution_count": 140,
      "outputs": [
        {
          "output_type": "execute_result",
          "data": {
            "text/html": [
              "<div>\n",
              "<style scoped>\n",
              "    .dataframe tbody tr th:only-of-type {\n",
              "        vertical-align: middle;\n",
              "    }\n",
              "\n",
              "    .dataframe tbody tr th {\n",
              "        vertical-align: top;\n",
              "    }\n",
              "\n",
              "    .dataframe thead th {\n",
              "        text-align: right;\n",
              "    }\n",
              "</style>\n",
              "<table border=\"1\" class=\"dataframe\">\n",
              "  <thead>\n",
              "    <tr style=\"text-align: right;\">\n",
              "      <th></th>\n",
              "      <th>Type</th>\n",
              "      <th>Date</th>\n",
              "      <th>Part of a policing operation</th>\n",
              "      <th>Policing operation</th>\n",
              "      <th>Latitude</th>\n",
              "      <th>Longitude</th>\n",
              "      <th>Gender</th>\n",
              "      <th>Age range</th>\n",
              "      <th>Self-defined ethnicity</th>\n",
              "      <th>Officer-defined ethnicity</th>\n",
              "      <th>Legislation</th>\n",
              "      <th>Object of search</th>\n",
              "      <th>Outcome</th>\n",
              "      <th>Outcome linked to object of search</th>\n",
              "      <th>Removal of more than just outer clothing</th>\n",
              "    </tr>\n",
              "  </thead>\n",
              "  <tbody>\n",
              "    <tr>\n",
              "      <th>0</th>\n",
              "      <td>Person and Vehicle search</td>\n",
              "      <td>2019-04-30T23:01:00+00:00</td>\n",
              "      <td>False</td>\n",
              "      <td>NaN</td>\n",
              "      <td>51.881266</td>\n",
              "      <td>0.253037</td>\n",
              "      <td>Female</td>\n",
              "      <td>over 34</td>\n",
              "      <td>White - English/Welsh/Scottish/Northern Irish/...</td>\n",
              "      <td>White</td>\n",
              "      <td>Misuse of Drugs Act 1971 (section 23)</td>\n",
              "      <td>Controlled drugs</td>\n",
              "      <td>Khat or Cannabis warning</td>\n",
              "      <td>True</td>\n",
              "      <td>False</td>\n",
              "    </tr>\n",
              "    <tr>\n",
              "      <th>1</th>\n",
              "      <td>Person and Vehicle search</td>\n",
              "      <td>2019-04-30T23:01:00+00:00</td>\n",
              "      <td>False</td>\n",
              "      <td>NaN</td>\n",
              "      <td>51.881266</td>\n",
              "      <td>0.253037</td>\n",
              "      <td>Male</td>\n",
              "      <td>18-24</td>\n",
              "      <td>White - English/Welsh/Scottish/Northern Irish/...</td>\n",
              "      <td>White</td>\n",
              "      <td>Misuse of Drugs Act 1971 (section 23)</td>\n",
              "      <td>Controlled drugs</td>\n",
              "      <td>A no further action disposal</td>\n",
              "      <td>False</td>\n",
              "      <td>False</td>\n",
              "    </tr>\n",
              "    <tr>\n",
              "      <th>2</th>\n",
              "      <td>Person search</td>\n",
              "      <td>2019-04-30T23:01:00+00:00</td>\n",
              "      <td>False</td>\n",
              "      <td>NaN</td>\n",
              "      <td>51.551467</td>\n",
              "      <td>0.651706</td>\n",
              "      <td>Male</td>\n",
              "      <td>Oct-17</td>\n",
              "      <td>White - English/Welsh/Scottish/Northern Irish/...</td>\n",
              "      <td>White</td>\n",
              "      <td>Police and Criminal Evidence Act 1984 (section 1)</td>\n",
              "      <td>Offensive weapons</td>\n",
              "      <td>A no further action disposal</td>\n",
              "      <td>False</td>\n",
              "      <td>False</td>\n",
              "    </tr>\n",
              "    <tr>\n",
              "      <th>3</th>\n",
              "      <td>Person and Vehicle search</td>\n",
              "      <td>2019-05-01T00:01:00+00:00</td>\n",
              "      <td>True</td>\n",
              "      <td>NaN</td>\n",
              "      <td>51.712638</td>\n",
              "      <td>0.152202</td>\n",
              "      <td>Female</td>\n",
              "      <td>25-34</td>\n",
              "      <td>White - English/Welsh/Scottish/Northern Irish/...</td>\n",
              "      <td>White</td>\n",
              "      <td>Misuse of Drugs Act 1971 (section 23)</td>\n",
              "      <td>Controlled drugs</td>\n",
              "      <td>Arrest</td>\n",
              "      <td>True</td>\n",
              "      <td>False</td>\n",
              "    </tr>\n",
              "    <tr>\n",
              "      <th>4</th>\n",
              "      <td>Vehicle search</td>\n",
              "      <td>2019-05-01T01:01:00+00:00</td>\n",
              "      <td>False</td>\n",
              "      <td>NaN</td>\n",
              "      <td>51.581672</td>\n",
              "      <td>0.455687</td>\n",
              "      <td>NaN</td>\n",
              "      <td>NaN</td>\n",
              "      <td>NaN</td>\n",
              "      <td>NaN</td>\n",
              "      <td>Misuse of Drugs Act 1971 (section 23)</td>\n",
              "      <td>Controlled drugs</td>\n",
              "      <td>A no further action disposal</td>\n",
              "      <td>False</td>\n",
              "      <td>NaN</td>\n",
              "    </tr>\n",
              "  </tbody>\n",
              "</table>\n",
              "</div>"
            ],
            "text/plain": [
              "                        Type  ... Removal of more than just outer clothing\n",
              "0  Person and Vehicle search  ...                                    False\n",
              "1  Person and Vehicle search  ...                                    False\n",
              "2              Person search  ...                                    False\n",
              "3  Person and Vehicle search  ...                                    False\n",
              "4             Vehicle search  ...                                      NaN\n",
              "\n",
              "[5 rows x 15 columns]"
            ]
          },
          "metadata": {
            "tags": []
          },
          "execution_count": 140
        }
      ]
    },
    {
      "cell_type": "code",
      "metadata": {
        "colab": {
          "base_uri": "https://localhost:8080/"
        },
        "id": "5cKsEMvR3Cpp",
        "outputId": "d1c99c2c-6a5b-4e61-b99f-189bf9485c6e"
      },
      "source": [
        "#shape of the dataframe\r\n",
        "df.shape"
      ],
      "execution_count": 141,
      "outputs": [
        {
          "output_type": "execute_result",
          "data": {
            "text/plain": [
              "(1369, 15)"
            ]
          },
          "metadata": {
            "tags": []
          },
          "execution_count": 141
        }
      ]
    },
    {
      "cell_type": "code",
      "metadata": {
        "colab": {
          "base_uri": "https://localhost:8080/"
        },
        "id": "nyP73wwpjv6G",
        "outputId": "122a3c47-512e-4176-da04-63ab8d88a271"
      },
      "source": [
        "#checking for NaN values\r\n",
        "df.isnull().sum()"
      ],
      "execution_count": 142,
      "outputs": [
        {
          "output_type": "execute_result",
          "data": {
            "text/plain": [
              "Type                                           0\n",
              "Date                                           0\n",
              "Part of a policing operation                   0\n",
              "Policing operation                          1369\n",
              "Latitude                                      25\n",
              "Longitude                                     25\n",
              "Gender                                        97\n",
              "Age range                                    115\n",
              "Self-defined ethnicity                        97\n",
              "Officer-defined ethnicity                    102\n",
              "Legislation                                    0\n",
              "Object of search                               0\n",
              "Outcome                                       13\n",
              "Outcome linked to object of search             0\n",
              "Removal of more than just outer clothing      97\n",
              "dtype: int64"
            ]
          },
          "metadata": {
            "tags": []
          },
          "execution_count": 142
        }
      ]
    },
    {
      "cell_type": "code",
      "metadata": {
        "id": "sNtURkiqk2u_"
      },
      "source": [
        "#dropping columns with only NaN values\r\n",
        "df.drop(columns = [\"Policing operation\"], axis = 1, inplace = True)"
      ],
      "execution_count": 143,
      "outputs": []
    },
    {
      "cell_type": "code",
      "metadata": {
        "id": "jIQGHn3Uk3Av"
      },
      "source": [
        "#dropping unnecessary columns \r\n",
        "df.drop(columns = [\"Date\",\"Latitude\",\"Longitude\"], axis = 1, inplace = True)"
      ],
      "execution_count": 144,
      "outputs": []
    },
    {
      "cell_type": "code",
      "metadata": {
        "colab": {
          "base_uri": "https://localhost:8080/"
        },
        "id": "TPCy_c0nk3No",
        "outputId": "f423081b-3f15-475c-d4f7-be708be412f0"
      },
      "source": [
        "#columns names in the dataframe\r\n",
        "df.columns"
      ],
      "execution_count": 145,
      "outputs": [
        {
          "output_type": "execute_result",
          "data": {
            "text/plain": [
              "Index(['Type', 'Part of a policing operation', 'Gender', 'Age range',\n",
              "       'Self-defined ethnicity', 'Officer-defined ethnicity', 'Legislation',\n",
              "       'Object of search', 'Outcome', 'Outcome linked to object of search',\n",
              "       'Removal of more than just outer clothing'],\n",
              "      dtype='object')"
            ]
          },
          "metadata": {
            "tags": []
          },
          "execution_count": 145
        }
      ]
    },
    {
      "cell_type": "code",
      "metadata": {
        "colab": {
          "base_uri": "https://localhost:8080/"
        },
        "id": "-7AXIhzfk3YE",
        "outputId": "d5bcdb39-323a-4c8c-e8a9-26977105862b"
      },
      "source": [
        "df.shape"
      ],
      "execution_count": 146,
      "outputs": [
        {
          "output_type": "execute_result",
          "data": {
            "text/plain": [
              "(1369, 11)"
            ]
          },
          "metadata": {
            "tags": []
          },
          "execution_count": 146
        }
      ]
    },
    {
      "cell_type": "code",
      "metadata": {
        "id": "xXKP2Firk3gb"
      },
      "source": [
        "#dropping rows with missing values in 'Outcome' column\r\n",
        "df = df[df[\"Outcome\"].notna()]"
      ],
      "execution_count": 147,
      "outputs": []
    },
    {
      "cell_type": "markdown",
      "metadata": {
        "id": "CsGmM9UG5_pC"
      },
      "source": [
        "**Data transformation and sensitive features:**"
      ]
    },
    {
      "cell_type": "code",
      "metadata": {
        "colab": {
          "base_uri": "https://localhost:8080/"
        },
        "id": "OB7N4dWun-sF",
        "outputId": "b33ddc39-d678-432b-a4d3-5ceb0c7297d9"
      },
      "source": [
        "#Stops By Race\r\n",
        "df[\"Officer-defined ethnicity\"].value_counts()"
      ],
      "execution_count": 148,
      "outputs": [
        {
          "output_type": "execute_result",
          "data": {
            "text/plain": [
              "White    1046\n",
              "Black     130\n",
              "Asian      44\n",
              "Other      38\n",
              "Name: Officer-defined ethnicity, dtype: int64"
            ]
          },
          "metadata": {
            "tags": []
          },
          "execution_count": 148
        }
      ]
    },
    {
      "cell_type": "markdown",
      "metadata": {
        "id": "JWsGmVOL6HRW"
      },
      "source": [
        "Testing for bias in data\r\n",
        "\r\n",
        "Is the data imbalanced?"
      ]
    },
    {
      "cell_type": "code",
      "metadata": {
        "colab": {
          "base_uri": "https://localhost:8080/"
        },
        "id": "L35RaA8QElwg",
        "outputId": "7f2ce374-e8e6-4806-f470-2e8ab6ef0859"
      },
      "source": [
        "#Stops By Gender\r\n",
        "df[\"Gender\"].value_counts()"
      ],
      "execution_count": 149,
      "outputs": [
        {
          "output_type": "execute_result",
          "data": {
            "text/plain": [
              "Male      1115\n",
              "Female     148\n",
              "Name: Gender, dtype: int64"
            ]
          },
          "metadata": {
            "tags": []
          },
          "execution_count": 149
        }
      ]
    },
    {
      "cell_type": "code",
      "metadata": {
        "colab": {
          "base_uri": "https://localhost:8080/"
        },
        "id": "pNm2LEBWE5CJ",
        "outputId": "1a8fe29d-3b03-47dc-aa81-a03eb8816e78"
      },
      "source": [
        "df['Age range'].value_counts()"
      ],
      "execution_count": 150,
      "outputs": [
        {
          "output_type": "execute_result",
          "data": {
            "text/plain": [
              "18-24      426\n",
              "Oct-17     378\n",
              "25-34      239\n",
              "over 34    202\n",
              "Name: Age range, dtype: int64"
            ]
          },
          "metadata": {
            "tags": []
          },
          "execution_count": 150
        }
      ]
    },
    {
      "cell_type": "code",
      "metadata": {
        "id": "mFye8USeYZM5"
      },
      "source": [
        "# Get indexes where 'Age range' column has value Oct-17\r\n",
        "indexNames = df[(df['Age range'] == 'Oct-17')].index\r\n",
        "indexNames\r\n",
        "# Delete these row indexes from dataFrame\r\n",
        "df.drop(indexNames , inplace=True)"
      ],
      "execution_count": 151,
      "outputs": []
    },
    {
      "cell_type": "markdown",
      "metadata": {
        "id": "GyDH5q8u7al8"
      },
      "source": [
        "## **Pre Processing and Data visualization:**"
      ]
    },
    {
      "cell_type": "code",
      "metadata": {
        "colab": {
          "base_uri": "https://localhost:8080/",
          "height": 296
        },
        "id": "R7AXx4dA7faa",
        "outputId": "8a1f8718-dbe0-46c2-a10b-937cc297ae78"
      },
      "source": [
        "#racial distributions among the arrested subjects\r\n",
        "sns.countplot(x=\"Outcome linked to object of search\", data=df)"
      ],
      "execution_count": 152,
      "outputs": [
        {
          "output_type": "execute_result",
          "data": {
            "text/plain": [
              "<matplotlib.axes._subplots.AxesSubplot at 0x7fbc9137ae90>"
            ]
          },
          "metadata": {
            "tags": []
          },
          "execution_count": 152
        },
        {
          "output_type": "display_data",
          "data": {
            "image/png": "[encoded data removed]",
            "text/plain": [
              "<Figure size 432x288 with 1 Axes>"
            ]
          },
          "metadata": {
            "tags": [],
            "needs_background": "light"
          }
        }
      ]
    },
    {
      "cell_type": "code",
      "metadata": {
        "colab": {
          "base_uri": "https://localhost:8080/",
          "height": 296
        },
        "id": "C_v_Q1BQ9Hog",
        "outputId": "12caffef-3ef3-4fdd-8e44-5b84f03dc195"
      },
      "source": [
        "#Plot race wise\r\n",
        "sns.countplot(x=\"Officer-defined ethnicity\", data= df)"
      ],
      "execution_count": 153,
      "outputs": [
        {
          "output_type": "execute_result",
          "data": {
            "text/plain": [
              "<matplotlib.axes._subplots.AxesSubplot at 0x7fbc97442bd0>"
            ]
          },
          "metadata": {
            "tags": []
          },
          "execution_count": 153
        },
        {
          "output_type": "display_data",
          "data": {
            "image/png": "[encoded data removed]",
            "text/plain": [
              "<Figure size 432x288 with 1 Axes>"
            ]
          },
          "metadata": {
            "tags": [],
            "needs_background": "light"
          }
        }
      ]
    },
    {
      "cell_type": "code",
      "metadata": {
        "colab": {
          "base_uri": "https://localhost:8080/",
          "height": 296
        },
        "id": "Mal3M_Nk9Htx",
        "outputId": "58a36d95-8f74-4c91-dba2-17ee51327175"
      },
      "source": [
        "#Plot Gender wise\r\n",
        "sns.countplot(x = \"Gender\", data = df)"
      ],
      "execution_count": 154,
      "outputs": [
        {
          "output_type": "execute_result",
          "data": {
            "text/plain": [
              "<matplotlib.axes._subplots.AxesSubplot at 0x7fbc9129e310>"
            ]
          },
          "metadata": {
            "tags": []
          },
          "execution_count": 154
        },
        {
          "output_type": "display_data",
          "data": {
            "image/png": "[encoded data removed]",
            "text/plain": [
              "<Figure size 432x288 with 1 Axes>"
            ]
          },
          "metadata": {
            "tags": [],
            "needs_background": "light"
          }
        }
      ]
    },
    {
      "cell_type": "code",
      "metadata": {
        "colab": {
          "base_uri": "https://localhost:8080/",
          "height": 296
        },
        "id": "7kx-r9uB9HyZ",
        "outputId": "fd4aa8dd-b843-47b3-f342-77ec1de65033"
      },
      "source": [
        "#Plot Age wise\r\n",
        "sns.countplot(x = \"Age range\", data = df)"
      ],
      "execution_count": 155,
      "outputs": [
        {
          "output_type": "execute_result",
          "data": {
            "text/plain": [
              "<matplotlib.axes._subplots.AxesSubplot at 0x7fbc9128c110>"
            ]
          },
          "metadata": {
            "tags": []
          },
          "execution_count": 155
        },
        {
          "output_type": "display_data",
          "data": {
            "image/png": "[encoded data removed]",
            "text/plain": [
              "<Figure size 432x288 with 1 Axes>"
            ]
          },
          "metadata": {
            "tags": [],
            "needs_background": "light"
          }
        }
      ]
    },
    {
      "cell_type": "code",
      "metadata": {
        "id": "8ET64tdeJzi0"
      },
      "source": [
        "#helper function\r\n",
        "def compute_outcome_stats(dfdf):\r\n",
        "    \"\"\"Compute statistics regarding the relative quanties of arrests, warnings, and citations\"\"\"\r\n",
        "    n_total = len(dfdf)\r\n",
        "    n_warnings = len(dfdf[dfdf['Outcome'] == 'Khat or Cannabis warning'])\r\n",
        "    n_penalty = len(dfdf[dfdf['Outcome'] == 'Penalty Notice for Disorder'])\r\n",
        "    n_arrests = len(dfdf[dfdf['Outcome'] == 'Arrest'])\r\n",
        "    penalty_per_warning = n_penalty / n_warnings\r\n",
        "    arrest_rate = n_arrests / n_total\r\n",
        "\r\n",
        "    return(pd.Series(data = {\r\n",
        "        'n_total': n_total,\r\n",
        "        'n_warnings': n_warnings,\r\n",
        "        'n_penalty': n_penalty,\r\n",
        "        'n_arrests': n_arrests,\r\n",
        "        'penalty_per_warning': penalty_per_warning,\r\n",
        "        'arrest_rate': arrest_rate\r\n",
        "    }))"
      ],
      "execution_count": 156,
      "outputs": []
    },
    {
      "cell_type": "code",
      "metadata": {
        "id": "GdadwtOdJzxl",
        "colab": {
          "base_uri": "https://localhost:8080/"
        },
        "outputId": "349b0546-26ff-471f-ba13-2d2d49ade4b7"
      },
      "source": [
        "compute_outcome_stats(df)"
      ],
      "execution_count": 157,
      "outputs": [
        {
          "output_type": "execute_result",
          "data": {
            "text/plain": [
              "n_total                978.000000\n",
              "n_warnings             119.000000\n",
              "n_penalty                7.000000\n",
              "n_arrests              140.000000\n",
              "penalty_per_warning      0.058824\n",
              "arrest_rate              0.143149\n",
              "dtype: float64"
            ]
          },
          "metadata": {
            "tags": []
          },
          "execution_count": 157
        }
      ]
    },
    {
      "cell_type": "code",
      "metadata": {
        "id": "5onQkDZgJz_n",
        "colab": {
          "base_uri": "https://localhost:8080/",
          "height": 141
        },
        "outputId": "6b19498e-d4c5-47e8-cf77-ff45a668cdb0"
      },
      "source": [
        "#breakdown by gender (using helper function)\r\n",
        "df.groupby('Gender').apply(compute_outcome_stats)"
      ],
      "execution_count": 158,
      "outputs": [
        {
          "output_type": "execute_result",
          "data": {
            "text/html": [
              "<div>\n",
              "<style scoped>\n",
              "    .dataframe tbody tr th:only-of-type {\n",
              "        vertical-align: middle;\n",
              "    }\n",
              "\n",
              "    .dataframe tbody tr th {\n",
              "        vertical-align: top;\n",
              "    }\n",
              "\n",
              "    .dataframe thead th {\n",
              "        text-align: right;\n",
              "    }\n",
              "</style>\n",
              "<table border=\"1\" class=\"dataframe\">\n",
              "  <thead>\n",
              "    <tr style=\"text-align: right;\">\n",
              "      <th></th>\n",
              "      <th>n_total</th>\n",
              "      <th>n_warnings</th>\n",
              "      <th>n_penalty</th>\n",
              "      <th>n_arrests</th>\n",
              "      <th>penalty_per_warning</th>\n",
              "      <th>arrest_rate</th>\n",
              "    </tr>\n",
              "    <tr>\n",
              "      <th>Gender</th>\n",
              "      <th></th>\n",
              "      <th></th>\n",
              "      <th></th>\n",
              "      <th></th>\n",
              "      <th></th>\n",
              "      <th></th>\n",
              "    </tr>\n",
              "  </thead>\n",
              "  <tbody>\n",
              "    <tr>\n",
              "      <th>Female</th>\n",
              "      <td>103.0</td>\n",
              "      <td>7.0</td>\n",
              "      <td>0.0</td>\n",
              "      <td>15.0</td>\n",
              "      <td>0.000000</td>\n",
              "      <td>0.145631</td>\n",
              "    </tr>\n",
              "    <tr>\n",
              "      <th>Male</th>\n",
              "      <td>782.0</td>\n",
              "      <td>104.0</td>\n",
              "      <td>7.0</td>\n",
              "      <td>114.0</td>\n",
              "      <td>0.067308</td>\n",
              "      <td>0.145780</td>\n",
              "    </tr>\n",
              "  </tbody>\n",
              "</table>\n",
              "</div>"
            ],
            "text/plain": [
              "        n_total  n_warnings  ...  penalty_per_warning  arrest_rate\n",
              "Gender                       ...                                  \n",
              "Female    103.0         7.0  ...             0.000000     0.145631\n",
              "Male      782.0       104.0  ...             0.067308     0.145780\n",
              "\n",
              "[2 rows x 6 columns]"
            ]
          },
          "metadata": {
            "tags": []
          },
          "execution_count": 158
        }
      ]
    },
    {
      "cell_type": "code",
      "metadata": {
        "colab": {
          "base_uri": "https://localhost:8080/",
          "height": 202
        },
        "id": "AqatyI1jsJdh",
        "outputId": "fbd6c95c-f8a5-46c7-f888-dc443d8f476b"
      },
      "source": [
        "#breakdown by race (using helper function)\r\n",
        "df.groupby('Officer-defined ethnicity').apply(compute_outcome_stats)"
      ],
      "execution_count": 159,
      "outputs": [
        {
          "output_type": "execute_result",
          "data": {
            "text/html": [
              "<div>\n",
              "<style scoped>\n",
              "    .dataframe tbody tr th:only-of-type {\n",
              "        vertical-align: middle;\n",
              "    }\n",
              "\n",
              "    .dataframe tbody tr th {\n",
              "        vertical-align: top;\n",
              "    }\n",
              "\n",
              "    .dataframe thead th {\n",
              "        text-align: right;\n",
              "    }\n",
              "</style>\n",
              "<table border=\"1\" class=\"dataframe\">\n",
              "  <thead>\n",
              "    <tr style=\"text-align: right;\">\n",
              "      <th></th>\n",
              "      <th>n_total</th>\n",
              "      <th>n_warnings</th>\n",
              "      <th>n_penalty</th>\n",
              "      <th>n_arrests</th>\n",
              "      <th>penalty_per_warning</th>\n",
              "      <th>arrest_rate</th>\n",
              "    </tr>\n",
              "    <tr>\n",
              "      <th>Officer-defined ethnicity</th>\n",
              "      <th></th>\n",
              "      <th></th>\n",
              "      <th></th>\n",
              "      <th></th>\n",
              "      <th></th>\n",
              "      <th></th>\n",
              "    </tr>\n",
              "  </thead>\n",
              "  <tbody>\n",
              "    <tr>\n",
              "      <th>Asian</th>\n",
              "      <td>35.0</td>\n",
              "      <td>7.0</td>\n",
              "      <td>0.0</td>\n",
              "      <td>3.0</td>\n",
              "      <td>0.000000</td>\n",
              "      <td>0.085714</td>\n",
              "    </tr>\n",
              "    <tr>\n",
              "      <th>Black</th>\n",
              "      <td>100.0</td>\n",
              "      <td>12.0</td>\n",
              "      <td>1.0</td>\n",
              "      <td>10.0</td>\n",
              "      <td>0.083333</td>\n",
              "      <td>0.100000</td>\n",
              "    </tr>\n",
              "    <tr>\n",
              "      <th>Other</th>\n",
              "      <td>26.0</td>\n",
              "      <td>1.0</td>\n",
              "      <td>0.0</td>\n",
              "      <td>3.0</td>\n",
              "      <td>0.000000</td>\n",
              "      <td>0.115385</td>\n",
              "    </tr>\n",
              "    <tr>\n",
              "      <th>White</th>\n",
              "      <td>719.0</td>\n",
              "      <td>91.0</td>\n",
              "      <td>6.0</td>\n",
              "      <td>113.0</td>\n",
              "      <td>0.065934</td>\n",
              "      <td>0.157163</td>\n",
              "    </tr>\n",
              "  </tbody>\n",
              "</table>\n",
              "</div>"
            ],
            "text/plain": [
              "                           n_total  ...  arrest_rate\n",
              "Officer-defined ethnicity           ...             \n",
              "Asian                         35.0  ...     0.085714\n",
              "Black                        100.0  ...     0.100000\n",
              "Other                         26.0  ...     0.115385\n",
              "White                        719.0  ...     0.157163\n",
              "\n",
              "[4 rows x 6 columns]"
            ]
          },
          "metadata": {
            "tags": []
          },
          "execution_count": 159
        }
      ]
    },
    {
      "cell_type": "code",
      "metadata": {
        "colab": {
          "base_uri": "https://localhost:8080/",
          "height": 516
        },
        "id": "wg0F74l9uFeR",
        "outputId": "8bbf72d7-d36f-4297-daa6-7ae555e02ed9"
      },
      "source": [
        "#penalty rate and arrest rate by race\r\n",
        "race_agg = df.groupby(['Officer-defined ethnicity']).apply(compute_outcome_stats)\r\n",
        "fig, axes = plt.subplots(nrows=2, ncols=1, figsize=figsize)\r\n",
        "race_agg['penalty_per_warning'].plot.barh(ax=axes[0], figsize=figsize, title=\"Penalty Rate By Race\")\r\n",
        "race_agg['arrest_rate'].plot.barh(ax=axes[1], figsize=figsize, title='Arrest Rate By Race')"
      ],
      "execution_count": 160,
      "outputs": [
        {
          "output_type": "execute_result",
          "data": {
            "text/plain": [
              "<matplotlib.axes._subplots.AxesSubplot at 0x7fbc911a2890>"
            ]
          },
          "metadata": {
            "tags": []
          },
          "execution_count": 160
        },
        {
          "output_type": "display_data",
          "data": {
            "image/png": "[encoded data removed]",
            "text/plain": [
              "<Figure size 1152x576 with 2 Axes>"
            ]
          },
          "metadata": {
            "tags": [],
            "needs_background": "light"
          }
        }
      ]
    },
    {
      "cell_type": "code",
      "metadata": {
        "id": "zP0GZl7mL8dm"
      },
      "source": [
        "#target column\r\n",
        "y = df[\"Outcome linked to object of search\"]"
      ],
      "execution_count": 161,
      "outputs": []
    },
    {
      "cell_type": "markdown",
      "metadata": {
        "id": "sMySCqLIzKsM"
      },
      "source": [
        "Objective:\r\n",
        "\r\n",
        "We want to train a classification model to classify whether a subject stopped and searched is arrested or not. The objective is to analyze whether sensitive features like gender and race of the subject determines the outcome, arrest or no arrest.\r\n",
        "\r\n",
        "The target/outcome variable is given by \"Outcome linked to object of search\" column in the dataset.\r\n",
        "\r\n",
        "We will initially select important attributes about subject like gender, race, age, search as the input variables to train the model.\r\n",
        "\r\n",
        "Further, feature selection methods like Recursive Feature Elimination and GridSearchCV in scikit-learn will be used to find the important features for model training and performance.\r\n",
        "\r\n",
        "Sensitive features:"
      ]
    },
    {
      "cell_type": "code",
      "metadata": {
        "id": "09E8YecwuGFp"
      },
      "source": [
        "#Racial bias\r\n",
        "privileged_group = df[df[\"Officer-defined ethnicity\"] == \"Whites\"]\r\n",
        "underprivileged_group = df[df[\"Officer-defined ethnicity\"] == \"Non-Whites\"]"
      ],
      "execution_count": 162,
      "outputs": []
    },
    {
      "cell_type": "code",
      "metadata": {
        "id": "fFlgsixUuGWE"
      },
      "source": [
        "#gender bias\r\n",
        "privileged_group = df[df[\"Gender\"] == \"FEMALE\"]\r\n",
        "underprivileged_group = df[df[\"Gender\"] == \"MALE\"]"
      ],
      "execution_count": 163,
      "outputs": []
    }
  ]
}